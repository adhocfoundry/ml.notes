{
 "cells": [
  {
   "cell_type": "code",
   "execution_count": 1,
   "metadata": {},
   "outputs": [],
   "source": [
    "import pandas as pd\n",
    "import matplotlib.pyplot as plt\n",
    "import seaborn as sns\n",
    "import numpy as np\n",
    "from scipy.stats import norm\n",
    "from sklearn.preprocessing import StandardScaler\n",
    "from scipy import stats\n",
    "import warnings\n",
    "\n",
    "\n",
    "warnings.filterwarnings('ignore')\n",
    "%matplotlib inline"
   ]
  },
  {
   "cell_type": "code",
   "execution_count": 136,
   "metadata": {},
   "outputs": [],
   "source": [
    "import os\n",
    "import sys\n",
    "app_path = os.path.abspath(os.path.join('..'))\n",
    "if app_path not in sys.path:\n",
    "    sys.path.append(app_path)\n",
    "    \n",
    "from app.plots.plots import Plots    "
   ]
  },
  {
   "cell_type": "code",
   "execution_count": 2,
   "metadata": {},
   "outputs": [
    {
     "ename": "NameError",
     "evalue": "name 'data' is not defined",
     "output_type": "error",
     "traceback": [
      "\u001b[0;31m---------------------------------------------------------------------------\u001b[0m",
      "\u001b[0;31mNameError\u001b[0m                                 Traceback (most recent call last)",
      "\u001b[0;32m<ipython-input-2-7b996f3021f5>\u001b[0m in \u001b[0;36m<module>\u001b[0;34m()\u001b[0m\n\u001b[1;32m      5\u001b[0m \u001b[0mdf\u001b[0m \u001b[0;34m=\u001b[0m \u001b[0mpd\u001b[0m\u001b[0;34m.\u001b[0m\u001b[0mDataFrame\u001b[0m\u001b[0;34m(\u001b[0m\u001b[0mnp\u001b[0m\u001b[0;34m.\u001b[0m\u001b[0mrandom\u001b[0m\u001b[0;34m.\u001b[0m\u001b[0mnormal\u001b[0m\u001b[0;34m(\u001b[0m\u001b[0;36m0\u001b[0m\u001b[0;34m,\u001b[0m \u001b[0;36m1\u001b[0m\u001b[0;34m,\u001b[0m \u001b[0;36m5000\u001b[0m\u001b[0;34m)\u001b[0m\u001b[0;34m)\u001b[0m\u001b[0;34m\u001b[0m\u001b[0m\n\u001b[1;32m      6\u001b[0m \u001b[0max\u001b[0m \u001b[0;34m=\u001b[0m \u001b[0mplt\u001b[0m\u001b[0;34m.\u001b[0m\u001b[0msubplot\u001b[0m\u001b[0;34m(\u001b[0m\u001b[0;36m1\u001b[0m\u001b[0;34m,\u001b[0m\u001b[0;36m3\u001b[0m\u001b[0;34m,\u001b[0m\u001b[0;36m1\u001b[0m\u001b[0;34m)\u001b[0m\u001b[0;34m\u001b[0m\u001b[0m\n\u001b[0;32m----> 7\u001b[0;31m \u001b[0msns\u001b[0m\u001b[0;34m.\u001b[0m\u001b[0mdistplot\u001b[0m\u001b[0;34m(\u001b[0m\u001b[0mdata\u001b[0m\u001b[0;34m)\u001b[0m\u001b[0;34m;\u001b[0m\u001b[0;34m\u001b[0m\u001b[0m\n\u001b[0m\u001b[1;32m      8\u001b[0m \u001b[0mplt\u001b[0m\u001b[0;34m.\u001b[0m\u001b[0mgca\u001b[0m\u001b[0;34m(\u001b[0m\u001b[0;34m)\u001b[0m\u001b[0;34m.\u001b[0m\u001b[0mset_title\u001b[0m\u001b[0;34m(\u001b[0m\u001b[0;34m\"mean = median = mode\"\u001b[0m\u001b[0;34m,\u001b[0m\u001b[0mfontsize\u001b[0m\u001b[0;34m=\u001b[0m\u001b[0;36m16\u001b[0m\u001b[0;34m)\u001b[0m\u001b[0;34m\u001b[0m\u001b[0m\n\u001b[1;32m      9\u001b[0m \u001b[0mplt\u001b[0m\u001b[0;34m.\u001b[0m\u001b[0mxlabel\u001b[0m\u001b[0;34m(\u001b[0m\u001b[0;34m'Normal Distribution'\u001b[0m\u001b[0;34m,\u001b[0m \u001b[0mfontsize\u001b[0m\u001b[0;34m=\u001b[0m\u001b[0;36m12\u001b[0m\u001b[0;34m)\u001b[0m\u001b[0;34m\u001b[0m\u001b[0m\n",
      "\u001b[0;31mNameError\u001b[0m: name 'data' is not defined"
     ]
    },
    {
     "data": {
      "image/png": "[encoded data removed]",
      "text/plain": [
       "<matplotlib.figure.Figure at 0x109b6a6d8>"
      ]
     },
     "metadata": {},
     "output_type": "display_data"
    }
   ],
   "source": [
    "dia.hist(figsize=(16, 8))\n",
    "plt.show()\n",
    "\n",
    "# Set Matplotlib figure size\n",
    "plt.figure(figsize=(16,3))\n",
    "\n",
    "# Normal Distribution\n",
    "df = pd.DataFrame(np.random.normal(0, 1, 5000))\n",
    "ax = plt.subplot(1,3,1)\n",
    "sns.distplot(data);\n",
    "plt.gca().set_title(\"mean = median = mode\",fontsize=16)\n",
    "plt.xlabel('Normal Distribution', fontsize=12)\n",
    "plt.axvline(df[0].mean(), color='red',label='mean')\n",
    "plt.axvline(df[0].median(), color='green',label='median')\n",
    "plt.axvline(0, color='black',label='mode')\n",
    "ax.legend()\n",
    "\n",
    "# Positive Skew Distribution\n",
    "dia = pd.read_csv('../data/diabetes.csv')\n",
    "dia.columns = ['preg', 'glu', 'bp', 'skin', 'insu', 'bmi', 'pedi', 'age', 'class']\n",
    "ax = plt.subplot(1,3, 2)\n",
    "sns.distplot(dia['age']);\n",
    "plt.gca().set_title(\"mean > median > mode\",fontsize=16)\n",
    "plt.xlabel('Positive Skew Distribution', fontsize=12)\n",
    "plt.axvline(dia['age'].mean(), color='red',label='mean')\n",
    "plt.axvline(dia['age'].median(), color='green',label='median')\n",
    "plt.axvline((dia['age'].mode())[0], color='black',label='mode')\n",
    "ax.legend()\n",
    "\n",
    "# Negative Skew Distribution\n",
    "income = pd.read_csv('../data/us.income.csv')\n",
    "ax = plt.subplot(1,3, 3)\n",
    "sns.distplot(income['distance']);\n",
    "plt.axvline(income['distance'].mean(), color='red',label='mean')\n",
    "plt.axvline(income['distance'].median(), color='green',label='median')\n",
    "plt.axvline((income['distance'].mode())[0], color='black',label='mode')\n",
    "plt.gca().set_title(\"mean < median < mode\",fontsize=16)\n",
    "plt.xlabel('Negative Skew Distribution', fontsize=12)\n",
    "ax.legend()\n",
    "\n",
    "plt.show()\n",
    "\n",
    "\n"
   ]
  },
  {
   "cell_type": "code",
   "execution_count": null,
   "metadata": {},
   "outputs": [],
   "source": []
  }
 ],
 "metadata": {
  "kernelspec": {
   "display_name": "Python [conda root]",
   "language": "python",
   "name": "conda-root-py"
  },
  "language_info": {
   "codemirror_mode": {
    "name": "ipython",
    "version": 3
   },
   "file_extension": ".py",
   "mimetype": "text/x-python",
   "name": "python",
   "nbconvert_exporter": "python",
   "pygments_lexer": "ipython3",
   "version": "3.6.0"
  }
 },
 "nbformat": 4,
 "nbformat_minor": 2
}
